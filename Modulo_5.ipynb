{
  "nbformat": 4,
  "nbformat_minor": 0,
  "metadata": {
    "colab": {
      "provenance": [],
      "authorship_tag": "ABX9TyO6wCIxQJvb8P6Ti9xCACMe",
      "include_colab_link": true
    },
    "kernelspec": {
      "name": "python3",
      "display_name": "Python 3"
    },
    "language_info": {
      "name": "python"
    }
  },
  "cells": [
    {
      "cell_type": "markdown",
      "metadata": {
        "id": "view-in-github",
        "colab_type": "text"
      },
      "source": [
        "<a href=\"https://colab.research.google.com/github/monitoxx/UNAL/blob/main/Modulo_5.ipynb\" target=\"_parent\"><img src=\"https://colab.research.google.com/assets/colab-badge.svg\" alt=\"Open In Colab\"/></a>"
      ]
    },
    {
      "cell_type": "code",
      "execution_count": null,
      "metadata": {
        "id": "5igmMhtMFkzr"
      },
      "outputs": [],
      "source": [
        "#suma = 40\n",
        "#cont = 0\n",
        "#for i in range(2, 12, 2):\n",
        "#    for j in range (i//2, i+1):\n",
        "#        suma += j\n",
        "#        cont += 1\n",
        "#resultado = suma - 5*cont\n",
        "#print(resultado)\n",
        "\n",
        "#///////////////////////////CANTIDAD NUMEROS DOS CIFRAS Y CANTIDAD NUMEROS DIVISIBLES POR 3 ENTRE DOS NUMEROS///////////////////////////\n",
        "A=int(input())\n",
        "B=int(input())\n",
        "digitos=0\n",
        "divisores=0\n",
        "for i in range(A, B+1):\n",
        "    if i>=10:\n",
        "        digitos+=1\n",
        "    if (i%3==0):\n",
        "        divisores+=1\n",
        "print(f'{digitos}\\n{divisores}')\n"
      ]
    },
    {
      "cell_type": "code",
      "source": [
        "#/////////////////////////TABLAS MULTIPLICAR//////////////////////////\n",
        "#n=int(input())\n",
        "#for i in range(1, 21):\n",
        "#  multiplicacion=n*i\n",
        "#  print(f'{n} x {i} = {multiplicacion}')\n"
      ],
      "metadata": {
        "id": "x2gfs_tqF0ly"
      },
      "execution_count": null,
      "outputs": []
    },
    {
      "cell_type": "code",
      "source": [
        "#////////////////////////DIVISION SALOMONICA/////////////////////////\n",
        "#X=int(float((input())))\n",
        "#reparto=0\n",
        "#while X>=10:\n",
        "#  X//=2\n",
        "#  reparto+=1\n",
        "#print(reparto)\n"
      ],
      "metadata": {
        "id": "v-PnrJpQF6Kw"
      },
      "execution_count": null,
      "outputs": []
    },
    {
      "cell_type": "code",
      "source": [
        "#////////////////////////AREA TOTAL //////////////////////////////////\n",
        "#lotes=int(float(input()))\n",
        "#long_lado=float(input())\n",
        "#incr_lado=float(input())\n",
        "#area=long_lado**2\n",
        "#for i in range(1,lotes):\n",
        "#  long_lado+=incr_lado\n",
        "#  area+=long_lado**2\n",
        "#print(f'El area total es de {area} metros cuadrados')\n"
      ],
      "metadata": {
        "id": "mQbLYJGSF97D"
      },
      "execution_count": null,
      "outputs": []
    },
    {
      "cell_type": "code",
      "source": [
        "#////////////////////////UN ELEFANTE SE BALANCEABA////////////\n",
        "#capacidad_max=float(input())\n",
        "#N=int(input())\n",
        "#peso_elefante=0\n",
        "#elefantes=0\n",
        "#for i in range(1,N+1):\n",
        "#  peso_elefante+=float(input())\n",
        "#  if (capacidad_max-peso_elefante)>=0:\n",
        "#    elefantes+=1\n",
        "#print(elefantes)\n"
      ],
      "metadata": {
        "id": "-wpnqsgdGAp4"
      },
      "execution_count": null,
      "outputs": []
    },
    {
      "cell_type": "code",
      "source": [
        "#//////////////////PRIMEROS Y ULTIMOS DIGITOS///////////////////////////\n",
        "\n",
        "#N=int(input())\n",
        "#X=N\n",
        "#Y = X%10\n",
        "#while X>=10:\n",
        "#  X//=10\n",
        "#print(f'{X}{Y}')\n",
        "\n",
        "#!!!!!!!!!!!!!!!!!!!!se puede hacer por listas, imprimiendo el primer y ultimo numero del string\n"
      ],
      "metadata": {
        "id": "jMQAMQ4AGDvI"
      },
      "execution_count": null,
      "outputs": []
    },
    {
      "cell_type": "code",
      "source": [
        "#/////////////////////////BANDERA INGLESA/////////////////////////////\n",
        "H=int(input())\n",
        "L=int(input())\n",
        "lleno_h=int(H/2+0.5)\n",
        "lleno_l=int(L/2+0.5)\n",
        "for n in range(1,L+1):\n",
        "  if n!=lleno_l:\n",
        "    for i in range(1,H+1):\n",
        "      if i==lleno_h:\n",
        "        print('+', end='')\n",
        "      else:\n",
        "        print('0', end='')\n",
        "    print('')\n",
        "  else:\n",
        "    for p in range(1,H+1):\n",
        "      print('+', end='')\n",
        "    print('')\n",
        "\n",
        "#SOYYYYYYYYYYYYY DIOOOOOOOOOOOOOOOOS\n",
        "#ESTAS VIENDO A UNA LEYENDA QUE NO VA VOLVER A NACER\n",
        "#XDXDXDXDXD\n"
      ],
      "metadata": {
        "colab": {
          "base_uri": "https://localhost:8080/"
        },
        "id": "Zdq0jisqGHY8",
        "outputId": "ef372353-4949-471b-ce8a-9e147be7498c"
      },
      "execution_count": 2,
      "outputs": [
        {
          "output_type": "stream",
          "name": "stdout",
          "text": [
            "21\n",
            "9\n",
            "0000000000+0000000000\n",
            "0000000000+0000000000\n",
            "0000000000+0000000000\n",
            "0000000000+0000000000\n",
            "+++++++++++++++++++++\n",
            "0000000000+0000000000\n",
            "0000000000+0000000000\n",
            "0000000000+0000000000\n",
            "0000000000+0000000000\n"
          ]
        }
      ]
    },
    {
      "cell_type": "code",
      "source": [
        "#//////////////////////////POLIFACTOR//////////////////////////////////////\n",
        "#P=int(input())\n",
        "#A=int(input())\n",
        "#Q=int(input())\n",
        "#restante=P\n",
        "#for i in range(A,Q+1):\n",
        "#  if restante%i==0:\n",
        "#    restante//=i\n",
        "#  else:\n",
        "#    print(f'{P} no es polifactor entre {A} y {Q}')\n",
        "#    restante = -1\n",
        "#    break\n",
        "#if restante!=-1:\n",
        "#  print(f'{P} es polifactor entre {A} y {Q}') \n",
        "\n",
        "#Digo esto ya que como hice una variable de control o \"Bandera\" entonces eso me permite saber que como \n",
        "#no entró a esa parte del ciclo entonces es todo lo contrario, o sea es polifactor\n"
      ],
      "metadata": {
        "id": "IX4sdmhVGjZJ"
      },
      "execution_count": null,
      "outputs": []
    },
    {
      "cell_type": "code",
      "source": [
        "#//////////////////////////ENREDO EN EL DANE//////////////////////////////////\n",
        "N=int(input())\n",
        "promedios=[]\n",
        "dias=0\n",
        "cantidad=[]\n",
        "cant_inicial=0\n",
        "for i in range(1,N+1):\n",
        "  elemento=float(input())\n",
        "  promedios.append(elemento)\n",
        "  #hasta acá para guardar datos de la lista de longitud N\n",
        "for j in promedios: \n",
        "  dias+=1\n",
        "  cant_total=int(j*dias-cant_inicial)\n",
        "  cantidad.append(cant_total)\n",
        "  #hasta acá se forma la lista con la cantidad de nacimientos por día \n",
        "  cant_inicial+=cant_total\n",
        "  #le sumo el valor para luego ir restando\n",
        "for nacimiento in cantidad:\n",
        "  print(nacimiento)\n",
        "  \n",
        "'''el código se puede hacer sin el ciclo con j y reemplazar la j en la operación por elemento, pero así no es tan claro'''\n",
        "#Dios si parí con este ejercicio xd"
      ],
      "metadata": {
        "id": "wT7N5wGtGxDn"
      },
      "execution_count": null,
      "outputs": []
    }
  ]
}