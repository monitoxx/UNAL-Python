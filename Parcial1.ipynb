{
  "nbformat": 4,
  "nbformat_minor": 0,
  "metadata": {
    "colab": {
      "provenance": [],
      "authorship_tag": "ABX9TyN+aKnNMFkEKqsOgWDK3FGK",
      "include_colab_link": true
    },
    "kernelspec": {
      "name": "python3",
      "display_name": "Python 3"
    },
    "language_info": {
      "name": "python"
    }
  },
  "cells": [
    {
      "cell_type": "markdown",
      "metadata": {
        "id": "view-in-github",
        "colab_type": "text"
      },
      "source": [
        "<a href=\"https://colab.research.google.com/github/monitoxx/UNAL/blob/main/Parcial1.ipynb\" target=\"_parent\"><img src=\"https://colab.research.google.com/assets/colab-badge.svg\" alt=\"Open In Colab\"/></a>"
      ]
    },
    {
      "cell_type": "code",
      "execution_count": null,
      "metadata": {
        "id": "sOMF47bqFFyT"
      },
      "outputs": [],
      "source": [
        "#y=3\n",
        "#x=6\n",
        "#z=1\n",
        "#y=(y>=5) or not(x>z) or (z==1)\n",
        "#print(y)\n",
        "\n",
        "'''////////////////////////////////////////////////////////////'''\n",
        "#N1 = 2\n",
        "#N2 = 9\n",
        "#N3 = 3\n",
        "#N11 = N1 * 100\n",
        "#N22 = N2 * 10\n",
        "#N = N11 + N22 + N3\n",
        "#if (N%3 != 0):\n",
        "#  N33 = N3 * 100\n",
        "#  N = N33 + N22 + N1\n",
        "#else:\n",
        "#  if (N%4 == 0):\n",
        "#    N22 = N2 * 100\n",
        "#    N = N1 + N22 + N3\n",
        "#print(N)\n",
        "\n",
        "'''////////////////////////////////////////////'''\n",
        "#b=int(input())\n",
        "#h=int(input())\n",
        "#area=int(b*h)\n",
        "#perimetro=b+h+b+h\n",
        "#print(area)\n",
        "#print(perimetro)\n",
        "\n",
        "'''//////////////////////////////////////////////'''\n",
        "#P=int(input())\n",
        "#M=input()\n",
        "#descuento=0\n",
        "#if (P>=32000) and (M=='COLANTA'):\n",
        "#  descuento=0.35\n",
        "#elif (P>=32000):\n",
        "#  descuento=0.30\n",
        "#elif (M=='COLANTA'):\n",
        "#  descuento=0.05\n",
        "#precio_total=int(P-(P*descuento))\n",
        "#print(precio_total)\n",
        "\n",
        "'''/////////////////////////////////////////////////////'''\n",
        "a=int(input())\n",
        "b=int(input())\n",
        "suma_5=0\n",
        "suma_imp=0\n",
        "for i in range(a, b+1):\n",
        "  if (i%5==0):\n",
        "    suma_5+=i\n",
        "  if(i%2!=0):\n",
        "    suma_imp+=i\n",
        "print(suma_5)\n",
        "print(suma_imp)\n"
      ]
    }
  ]
}