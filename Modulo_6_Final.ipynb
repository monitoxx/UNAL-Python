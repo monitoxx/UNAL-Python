{
  "nbformat": 4,
  "nbformat_minor": 0,
  "metadata": {
    "colab": {
      "provenance": [],
      "authorship_tag": "ABX9TyMgFY46LVUO9pN/mHF8XHYx",
      "include_colab_link": true
    },
    "kernelspec": {
      "name": "python3",
      "display_name": "Python 3"
    },
    "language_info": {
      "name": "python"
    }
  },
  "cells": [
    {
      "cell_type": "markdown",
      "metadata": {
        "id": "view-in-github",
        "colab_type": "text"
      },
      "source": [
        "<a href=\"https://colab.research.google.com/github/monitoxx/UNAL/blob/main/Modulo_6_Final.ipynb\" target=\"_parent\"><img src=\"https://colab.research.google.com/assets/colab-badge.svg\" alt=\"Open In Colab\"/></a>"
      ]
    },
    {
      "cell_type": "code",
      "execution_count": null,
      "metadata": {
        "id": "HgFpGyvKV5Br"
      },
      "outputs": [],
      "source": [
        "#/////////////////////////APRENDIENDO LOS NÚMEROS////////////////////////////\n",
        "#N=int(input())\n",
        "#lista_N= []\n",
        "#uno=0; dos=0; tres=0; cuatro=0; cinco=0\n",
        "#for i in range(N):\n",
        "#  numero=int(input())\n",
        "#  lista_N.append(numero)\n",
        "#for digito in lista_N:\n",
        "#  if digito==1:\n",
        "#    uno+=1\n",
        "#  elif digito==2:\n",
        "#    dos+=1\n",
        "#  elif digito==3:\n",
        "#    tres+=1\n",
        "#  elif digito==4:\n",
        "#    cuatro+=1\n",
        "#  elif digito==5:\n",
        "#    cinco+=1\n",
        "#print(f'1: {uno}\\n2: {dos}\\n3: {tres}\\n4: {cuatro}\\n5: {cinco}')\n",
        "\n",
        "#//////////////////////////CLUB MÁS GANADOR/////////////////////////////\n",
        "#N=int(input())#cantidad de partidos\n",
        "#lista_gol_FCB=[]\n",
        "#marcador_FCB=0\n",
        "#lista_gol_RMCF=[]\n",
        "#marcador_RMCF=0\n",
        "#for i in range(N):#lista goles por #partido del FCB\n",
        "#  gol_FCB=int(input())\n",
        "#  lista_gol_FCB.append(gol_FCB)\n",
        "#for i in range(N):#lista goles por #partido RMCF\n",
        "#  gol_RMCF=int(input())\n",
        "#  lista_gol_RMCF.append(gol_RMCF)\n",
        "#for j in range(N):#numero de puntos #por victoria, derrota y empate\n",
        "#  if #lista_gol_FCB[j]>lista_gol_RMCF[j]:\n",
        "#    marcador_FCB+=2\n",
        "#  elif lista_gol_FCB[j]#<lista_gol_RMCF[j]:\n",
        "#    marcador_RMCF+=2\n",
        "#  else:\n",
        "#    marcador_FCB+=1\n",
        "#    marcador_RMCF+=1\n",
        "#print(f'Ballenota Futbol Club: {marcador_FCB}\\nReal Mandril: {marcador_RMCF}')\n"
      ]
    },
    {
      "cell_type": "code",
      "source": [
        "#/////////////////////////////ALBUM PANINI/////////////////////////////\n",
        "lista_cromos=[]#barajitas\n",
        "cromos=int(input())\n",
        "while cromos!=0: #cuando es cero se termina la lista y ese numero no es una barajita\n",
        "  lista_cromos.append(cromos)\n",
        "  cromos=int(input())\n",
        "N=0\n",
        "total_cromos=0\n",
        "lista_cromos.sort()#la ordeno de menos a mayor para poder comparar las que sean iguales y que así no sumen al total de barajitas sin repetir\n",
        "for valor in lista_cromos:\n",
        "  if N!=valor:\n",
        "    total_cromos+=1\n",
        "  N=valor\n",
        "print(total_cromos)\n"
      ],
      "metadata": {
        "id": "-fn_LqOT0h4Z"
      },
      "execution_count": null,
      "outputs": []
    },
    {
      "cell_type": "code",
      "source": [
        "#/////////////////////////////INDICE DE DESIGUALDAD//////////////////\n",
        "lista_salarios=[]\n",
        "salario=int(input())\n",
        "while salario!=0: \n",
        "  lista_salarios.append(salario)\n",
        "  salario=int(input())\n",
        "#cuando es cero se termina la lista y ese numero no es un salario\n",
        "lista_salarios.sort()\n",
        "N=len(lista_salarios)\n",
        "a=lista_salarios[-3]\n",
        "b=lista_salarios[2]\n",
        "Indice=round((a-b)/(N)**2, 2)\n",
        "print(Indice)"
      ],
      "metadata": {
        "id": "_vjNyXOQnygJ"
      },
      "execution_count": null,
      "outputs": []
    },
    {
      "cell_type": "code",
      "source": [
        "#////////////////////////////BATALLAS FRONTALES///////////////////////\n",
        "soldados=int(input())\n",
        "soldados_A=[]\n",
        "soldados_B=[]\n",
        "for i in range(soldados):\n",
        "  A=int(input())\n",
        "  soldados_A.append(A)\n",
        "soldados_A.sort()\n",
        "for j in range(soldados):\n",
        "  B=int(input())\n",
        "  soldados_B.append(B) \n",
        "soldados_B.sort(reverse=True)\n",
        "#En este punto la lista B ya está organizada de atras hacia adelante, así comparamos de frente ambas listas.\n",
        "\n",
        "N=soldados #totalmente innecesario, pero para no escribir soldados en range XD\n",
        "vivos=0\n",
        "\n",
        "for i in range(0,N):\n",
        "  if (soldados_A[i]%2!=0) and (soldados_B[i]%2==0):\n",
        "    vivos+=2\n",
        "  elif (soldados_B[i]%2!=0) and (soldados_A[i]%2==0):\n",
        "    vivos+=2\n",
        "\n",
        "print(f'Sobreviven {vivos} soldados')"
      ],
      "metadata": {
        "id": "nutfG8BUs-gG"
      },
      "execution_count": null,
      "outputs": []
    },
    {
      "cell_type": "code",
      "source": [
        "#//////////////////////////////RACIMOS DE UVAS IDEALES//////////////////\n",
        "racimos=[]\n",
        "N=int(input())\n",
        "while N!=0:\n",
        "  racimos.append(N)\n",
        "  N=int(input())\n",
        "for racimo in racimos:\n",
        "  uvas=0\n",
        "  nivel=0\n",
        "  for i in range(racimo):\n",
        "    nivel+=1\n",
        "    uvas+=nivel\n",
        "    if racimo-uvas<0:\n",
        "      print('No puede ser un racimo #ideal')\n",
        "      break\n",
        "    elif racimo-uvas==0:\n",
        "      print('Puede ser un racimo ideal')\n",
        "      break\n",
        "#print('Lo ideal sería:', uvas)"
      ],
      "metadata": {
        "id": "RMdfISHbyytr"
      },
      "execution_count": null,
      "outputs": []
    },
    {
      "cell_type": "code",
      "source": [
        "#/////////////////////////////FICHA FALTANTE//////////////////////\n",
        "No_fichas=int(input())\n",
        "fichas=[0]#lista con N-1 fichas\n",
        "N=int(input())\n",
        "fichas.append(N)\n",
        "for i in range(No_fichas-2):\n",
        "  N=int(input())\n",
        "  fichas.append(N)\n",
        "fichas.sort()\n",
        "control=0#para saber si nunca entró\n",
        "for j in range(No_fichas):\n",
        "  if fichas[j]!=j:\n",
        "    print(f'La ficha faltante es la {j}')\n",
        "    control+=1\n",
        "    break\n",
        "if control==0:\n",
        "  print(f'La ficha faltante es la {No_fichas}')"
      ],
      "metadata": {
        "id": "456GLNaBKjTX"
      },
      "execution_count": null,
      "outputs": []
    },
    {
      "cell_type": "code",
      "source": [
        "#////////////////////////////PAREJAS GANADORAS////////////////////\n",
        "id=[]#lista con numero de la pareja\n",
        "n=int(input())\n",
        "while n!=0:\n",
        "  id.append(n)\n",
        "  n=int(input())\n",
        "  \n",
        "ganadores=0\n",
        "for i in range(len(id)-1): #lo hago hasta k-2 porque en esa posición evaluo el penultimo con el #ultimo y no hará falta evaluar más\n",
        "  for j in range(i+1,len(id)):\n",
        "    if(id[i]+id[j]==1995 and id[i]!=-1 and id[j]!=-1):\n",
        "      ganadores+=1\n",
        "      id[i]=-1\n",
        "      id[j]=-1\n",
        "print(ganadores)"
      ],
      "metadata": {
        "id": "EklqjNe-Kmen"
      },
      "execution_count": null,
      "outputs": []
    }
  ]
}