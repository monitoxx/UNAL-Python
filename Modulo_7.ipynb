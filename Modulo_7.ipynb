{
  "nbformat": 4,
  "nbformat_minor": 0,
  "metadata": {
    "colab": {
      "provenance": [],
      "authorship_tag": "ABX9TyM57zc/rxnFt4RDIR9aFYmp",
      "include_colab_link": true
    },
    "kernelspec": {
      "name": "python3",
      "display_name": "Python 3"
    },
    "language_info": {
      "name": "python"
    }
  },
  "cells": [
    {
      "cell_type": "markdown",
      "metadata": {
        "id": "view-in-github",
        "colab_type": "text"
      },
      "source": [
        "<a href=\"https://colab.research.google.com/github/monitoxx/UNAL/blob/main/Modulo_7.ipynb\" target=\"_parent\"><img src=\"https://colab.research.google.com/assets/colab-badge.svg\" alt=\"Open In Colab\"/></a>"
      ]
    },
    {
      "cell_type": "code",
      "execution_count": 2,
      "metadata": {
        "colab": {
          "base_uri": "https://localhost:8080/"
        },
        "id": "cJ9e_o-iyVL-",
        "outputId": "e68a0675-9817-4e81-ae97-107bf7fd849e"
      },
      "outputs": [
        {
          "output_type": "stream",
          "name": "stdout",
          "text": [
            "3\n",
            "120.0\n",
            "3600.0\n",
            "999999999.0\n",
            "1.000000000000006\n",
            "1.000000000005563\n",
            "2.658655750196292\n"
          ]
        }
      ],
      "source": [
        "#///////////////////RELATIVIDAD ESPECIAL//////////////////////////\n",
        "from math import sqrt\n",
        "N=int(input())\n",
        "velocidades=[]\n",
        "c=299792458\n",
        "for i in range(N):\n",
        "  k=float(input())\n",
        "  velocidades.append(k)\n",
        "\n",
        "def velocidad_ms(X):\n",
        "  V=X/3.6\n",
        "  return V\n",
        "def factor_lorentz(V):\n",
        "  Lorentz=1/(sqrt(1-(V**2)/(c**2)))\n",
        "  return Lorentz\n",
        "\n",
        "for valor in velocidades:\n",
        "  V=velocidad_ms(valor)\n",
        "  Lorentz=factor_lorentz(V)\n",
        "  print(round(Lorentz, 15))"
      ]
    },
    {
      "cell_type": "code",
      "source": [
        "#/////////////////////////PARES Y NONES/////////////////////////////\n",
        "valores=[]\n",
        "X=int(input())\n",
        "while X!=0:\n",
        "  valores.append(X)\n",
        "  X=int(input())\n",
        "\n",
        "def f(X):\n",
        "  F=(2+5*X)**(1/2)\n",
        "  return F\n",
        "def g(X):\n",
        "  G=(4+X)**3\n",
        "  return G\n",
        "\n",
        "for valor in valores:\n",
        "  if valor%2==0:\n",
        "    Y=f(g(valor))\n",
        "    print(Y)\n",
        "  else:\n",
        "    Y=g(f(valor))\n",
        "    print(Y)"
      ],
      "metadata": {
        "id": "Bww9GUIcyqbf"
      },
      "execution_count": null,
      "outputs": []
    },
    {
      "cell_type": "code",
      "source": [
        "#///////////////////////////HYPERPARES/////////////////////////////\n",
        "valores=[]\n",
        "X=int(input())\n",
        "while X!=-1:\n",
        "  valores.append(X)\n",
        "  X=int(input())\n",
        "  \n",
        "def hyperpares(n):\n",
        "  if n==0:\n",
        "    print('Hyperpar')\n",
        "  else:\n",
        "    print('No es hyperpar')\n",
        "\n",
        "for valor in valores:\n",
        "  n=0\n",
        "  for i in str(valor): #acá recorro el numero cifra por cifra convertido en un string\n",
        "    if int(i)%2!=0:\n",
        "      n=1\n",
        "  hyperpares(n)"
      ],
      "metadata": {
        "colab": {
          "base_uri": "https://localhost:8080/"
        },
        "id": "Di6Xa_7cyxsG",
        "outputId": "8527b419-b5ee-4974-f20f-f422631c0a85"
      },
      "execution_count": 3,
      "outputs": [
        {
          "output_type": "stream",
          "name": "stdout",
          "text": [
            "2080\n",
            "256\n",
            "88888\n",
            "-1\n",
            "Hyperpar\n",
            "No es hyperpar\n",
            "Hyperpar\n"
          ]
        }
      ]
    },
    {
      "cell_type": "code",
      "source": [
        "#/////////////////////////OBSESION DE FAMILIA/////////////////////\n",
        "digitos=[]\n",
        "N=int(input())\n",
        "for i in range(N):\n",
        "  n=int(input())\n",
        "  digitos.append(n)\n",
        " \n",
        "def F(X):\n",
        "  if X%123==0:\n",
        "    X=0\n",
        "  else:  \n",
        "    X=1+F(X+23)\n",
        "  return X\n",
        "\n",
        "for i in range(N):\n",
        "  X=digitos[i]\n",
        "  Q=(F(X))\n",
        "  print(Q)"
      ],
      "metadata": {
        "id": "FYbSKno0zwqD"
      },
      "execution_count": null,
      "outputs": []
    },
    {
      "cell_type": "code",
      "source": [
        "#////////////////////////////////PAN/////////////////////////////////\n",
        "digitos=[]\n",
        "N=int(input())\n",
        "for i in range(N):\n",
        "  n=float(input())\n",
        "  digitos.append(n)\n",
        "\n",
        "def P(X):\n",
        "  Q=2*X+1\n",
        "  return Q\n",
        "def A(X):\n",
        "  B=3**X\n",
        "  return B\n",
        "def N(X):\n",
        "  Ñ=(5*X+4)**(1/2)\n",
        "  return Ñ\n",
        "\n",
        "for X in digitos:\n",
        "  Y=P(A(N(X)))\n",
        "  print(Y)"
      ],
      "metadata": {
        "id": "PcELz6Ecz9Gb"
      },
      "execution_count": null,
      "outputs": []
    },
    {
      "cell_type": "code",
      "source": [
        "#////////////////////////////FUNCION DE ACKERMANN////////////////////\n",
        "m=[]#(0<=m<=3)\n",
        "n=[]#(0<=n<=7*(4-m)**2)\n",
        "C=int(input())\n",
        "for i in range(C):\n",
        "  a=int(input())\n",
        "  m.append(a)\n",
        "  b=int(input())\n",
        "  n.append(b)\n",
        "\n",
        "def A(m,n):\n",
        "  if m==0:\n",
        "    G=n+1\n",
        "  elif m>0 and n==0:\n",
        "    G=A(m-1,1)\n",
        "  elif m>0 and n>0:\n",
        "    G=A(m-1, A(m,n-1))\n",
        "  return G\n",
        "  \n",
        "for j in range(0, C):\n",
        "  print(A(m[j], n[j]))"
      ],
      "metadata": {
        "id": "edr_xBsx0DUS"
      },
      "execution_count": null,
      "outputs": []
    },
    {
      "cell_type": "code",
      "source": [
        "#//////////////////////////NUMEROS PERFECTOS//////////////////////\n",
        "N=int(input())\n",
        "lista=[]\n",
        "for i in range(N):\n",
        "  x=int(input())\n",
        "  lista.append(x)\n",
        "\n",
        "def Perfecto(X):\n",
        "  Y=X\n",
        "  divisor=0\n",
        "  while Y>1:\n",
        "    Y-=1\n",
        "    if X%Y==0:\n",
        "      divisor+=Y\n",
        "  if divisor==X:\n",
        "    return True\n",
        "  return False\n",
        "\n",
        "for valor in lista:\n",
        "  if Perfecto(valor):\n",
        "    print(f'{valor} es perfecto')\n",
        "  else:\n",
        "    print(f'{valor} no es perfecto')"
      ],
      "metadata": {
        "colab": {
          "base_uri": "https://localhost:8080/"
        },
        "id": "OZcet7Kd0OCx",
        "outputId": "1389200f-2892-4a60-ecd1-feea3550a939"
      },
      "execution_count": 4,
      "outputs": [
        {
          "output_type": "stream",
          "name": "stdout",
          "text": [
            "3\n",
            "15\n",
            "240\n",
            "28\n",
            "15 no es perfecto\n",
            "240 no es perfecto\n",
            "28 es perfecto\n"
          ]
        }
      ]
    },
    {
      "cell_type": "code",
      "source": [
        "#////////////////////NUMEROS FUERTES o KRISHNAMURTHY/////////////////\n",
        "N=int(input())\n",
        "lista=[]\n",
        "for i in range(N):\n",
        "  x=int(input())\n",
        "  lista.append(x)\n",
        "\n",
        "def factorial(X):\n",
        "  if X==1 or X==0:\n",
        "    return 1\n",
        "  return X*factorial(X-1)\n",
        "\n",
        "for valor in lista:\n",
        "  Q=str(valor)\n",
        "  suma=0\n",
        "  for i in Q:\n",
        "    suma+= factorial(int(i))\n",
        "  if suma==valor:\n",
        "    print(f'{valor} es fuerte')\n",
        "  else:\n",
        "    print(f'{valor} no es fuerte')"
      ],
      "metadata": {
        "colab": {
          "base_uri": "https://localhost:8080/"
        },
        "id": "u50HXM_f1HFT",
        "outputId": "11da1349-7b29-4739-8f0f-9d76942a901b"
      },
      "execution_count": 5,
      "outputs": [
        {
          "output_type": "stream",
          "name": "stdout",
          "text": [
            "4\n",
            "1\n",
            "145\n",
            "2897\n",
            "43\n",
            "1 es fuerte\n",
            "145 es fuerte\n",
            "2897 no es fuerte\n",
            "43 no es fuerte\n"
          ]
        }
      ]
    }
  ]
}