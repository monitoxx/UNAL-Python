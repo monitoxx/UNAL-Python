{
  "nbformat": 4,
  "nbformat_minor": 0,
  "metadata": {
    "colab": {
      "provenance": [],
      "authorship_tag": "ABX9TyN1ly1oAyk4nH0RSlDz1Hf8",
      "include_colab_link": true
    },
    "kernelspec": {
      "name": "python3",
      "display_name": "Python 3"
    },
    "language_info": {
      "name": "python"
    }
  },
  "cells": [
    {
      "cell_type": "markdown",
      "metadata": {
        "id": "view-in-github",
        "colab_type": "text"
      },
      "source": [
        "<a href=\"https://colab.research.google.com/github/monitoxx/UNAL/blob/main/Mod4.ipynb\" target=\"_parent\"><img src=\"https://colab.research.google.com/assets/colab-badge.svg\" alt=\"Open In Colab\"/></a>"
      ]
    },
    {
      "cell_type": "code",
      "execution_count": null,
      "metadata": {
        "id": "CrNCJrjlDfRf"
      },
      "outputs": [],
      "source": [
        "'''///////////////////////////Cálculo del pago//////////////////////////'''\n",
        "tarifa=int(input())\n",
        "horas=int(input())\n",
        "if horas<=45:\n",
        "  print('$', tarifa*horas)\n",
        "else:\n",
        "  tarifa_extra=tarifa*1.5\n",
        "  horas_extra=horas-45\n",
        "  sueldo_base=tarifa*45\n",
        "  sueldo_extra=horas_extra*tarifa_extra\n",
        "  print('$', #int(sueldo_base+sueldo_extra))\n"
      ]
    },
    {
      "cell_type": "code",
      "source": [
        "'''////////////////////////////DETERMINANDO EL CUADRANTE///////////////////'''\n",
        "x=float(input())\n",
        "y=float(input())\n",
        "if x<0 and y<0:\n",
        "  print(f'La coordenada ({x}, {y}) se #encuentra en el cuadrante 3')\n",
        "elif x<0 and y>0:\n",
        "  print(f'La coordenada ({x}, {y}) se #encuentra en el cuadrante 2')\n",
        "elif x>0 and y>0:\n",
        "  print(f'La coordenada ({x}, {y}) se #encuentra en el cuadrante 1')\n",
        "elif x>0 and y<0:\n",
        "  print(f'La coordenada ({x}, {y}) se #encuentra en el cuadrante 4')\n",
        "elif x==0 and y==0:\n",
        "    print(f'La coordenada ({x}, {y}) #corresponde al origen')\n",
        "elif x==0:\n",
        "    print(f'La coordenada ({x}, {y}) #esta sobre el eje Y')\n",
        "else:\n",
        "    print(f'La coordenada ({x}, {y}) esta sobre el eje X')\n",
        "    "
      ],
      "metadata": {
        "id": "P4hUMY20D0xY"
      },
      "execution_count": null,
      "outputs": []
    },
    {
      "cell_type": "code",
      "source": [
        "'''//////////////////////////MEDIANA DE TRES VALORES///////////////////'''\n",
        "a=float(input())\n",
        "b=float(input())\n",
        "c=float(input())\n",
        "if a<b and b<c or c<b and b<a:\n",
        "  print(b, 'es la mediana')\n",
        "elif a<c and c<b or b<c and c<a:\n",
        "  print(c, 'es la mediana')\n",
        "elif b<a and a<c or c<a and a<b:\n",
        "  print(a, 'es la mediana')\n",
        "elif a==b and a<c or a==c and a<b:\n",
        "  print(b, 'es la mediana')\n",
        "elif b==c and a<b or a==c and a<b:\n",
        "  print(c, 'es la mediana')\n",
        "else:\n",
        "  print(a, 'es la mediana')\n",
        "  "
      ],
      "metadata": {
        "id": "DbelH9-ED7_h"
      },
      "execution_count": null,
      "outputs": []
    },
    {
      "cell_type": "code",
      "source": [
        "'''///////////////////////////FALTAN 5 PA LAS 12////////////////////////'''\n",
        "#hora=int(input())\n",
        "#minutos=int(input())\n",
        "#etapa=input()\n",
        "#horas_a_minutos=hora*60\n",
        "#'''Tener en cuenta que en 24 horas hay #1440 minutos. Y que si el formato es #de 12h, se debe sumar 12*60 al darse #el dato en pm'''\n",
        "#if etapa=='am' and hora!=12:\n",
        "#  transcurridos=horas_a_minutos+minutos\n",
        "#  print(f'Faltan {1440-transcurridos} #para las 12')\n",
        "#elif etapa=='am':\n",
        "#  print(f'Faltan {1440-minutos} para #las 12')\n",
        "#elif hora!=12:\n",
        "#  horas_totales_en_minutos=12*60+horas_a_#minutos\n",
        "#  transcurridos=horas_totales_en_minutos+#minutos\n",
        "#  print(f'Faltan {1440-transcurridos} #para las 12')\n",
        "#else:\n",
        "#  print(f'Faltan {1440-horas_a_minutos-minutos} para las 12')\n",
        "\n",
        "#///////////////////////////REFLEJO DEL RELOJ/////////////////////////\n",
        "\n",
        "#/////////////////////////////MULTIPLO DE CUAL PRIMO////////////////////\n",
        "#n=int(input())\n",
        "#if n%7==0 and n%3==0 and n%5==0 and #n%2==0:\n",
        "#  print(f'{n} es multiplo de 2')\n",
        "#elif n%3==0 and n%5==0 and n%2==0:\n",
        "#  print(f'{n} es multiplo de 2')\n",
        "#elif n%3==0 and n%2==0:\n",
        "#  print(f'{n} es multiplo de 2')\n",
        "#elif n%2==0:\n",
        "#  print(f'{n} es multiplo de 2')\n",
        "#elif n%3==0:\n",
        "#  print(f'{n} es multiplo de 3')\n",
        "#elif n%5==0:\n",
        "#  print(f'{n} es multiplo de 5')\n",
        "#elif n%7==0:\n",
        "#  print(f'{n} es multiplo de 7')\n",
        "#else:\n",
        "#  print(f'{n} no es multiplo de ninguno de los primeros cuatro primos')\n"
      ],
      "metadata": {
        "id": "3yQu1n64EIKR"
      },
      "execution_count": null,
      "outputs": []
    },
    {
      "cell_type": "code",
      "source": [
        "#/////////////////////////////PIEDA, PAPEL, TIJERA///////////////////////\n",
        "j1=input()\n",
        "j2=input()\n",
        "if j1=='piedra' and j2=='papel' or #j1=='papel' and j2=='piedra':\n",
        "  print(f'papel vence piedra')\n",
        "elif j1=='tijera' and j2=='piedra' or #j1=='piedra' and j2=='tijera':\n",
        "  print(f'piedra vence tijera')\n",
        "elif j1=='papel' and j2=='tijera' or #j1=='tijera' and j2=='papel':\n",
        "  print(f'tijera vence papel')\n",
        "elif j1==j2:\n",
        "  print('empate')"
      ],
      "metadata": {
        "id": "amkSEyXJEQfx"
      },
      "execution_count": null,
      "outputs": []
    },
    {
      "cell_type": "code",
      "source": [
        "#///////////////////////////EQUIVALENCIA EN BILLETES/////////////////////////////\n",
        "retiro= int(input())\n",
        "cincuentas=retiro//50000\n",
        "sobra_50= retiro-(cincuentas*50000)\n",
        "\n",
        "cincuentas_20= sobra_50//20000\n",
        "sobra_50_20= sobra_50-(cincuentas_20*20000)\n",
        "\n",
        "cincuentas_20_10= sobra_50_20//10000\n",
        "sobra_50_20_10= sobra_50_20-(cincuentas_20_10*10000)\n",
        "\n",
        "cincuentas_20_10_5= sobra_50_20_10//5000\n",
        "sobra_50_20_10_5= sobra_50_20_10-(cincuentas_20_10_5*5000)\n",
        "\n",
        "cincuentas_20_10_5_2= (sobra_50_20_10_5//2000)\n",
        "sobra_50_20_10_5_2= sobra_50_20_10_5-(cincuentas_20_10_5_2*2000)\n",
        "\n",
        "cincuentas_20_10_5_2_1= (sobra_50_20_10_5_2//1000)\n",
        "\n",
        "if cincuentas!=0:\n",
        "  print(f'{cincuentas} de $50000')\n",
        "if cincuentas_20!=0:\n",
        "  print(f'{cincuentas_20} de $20000')\n",
        "if cincuentas_20_10!=0:\n",
        "  print(f'{cincuentas_20_10} de $10000')\n",
        "if cincuentas_20_10_5!=0:\n",
        "  print(f'{cincuentas_20_10_5} de $5000')\n",
        "if cincuentas_20_10_5_2!=0:\n",
        "  print(f'{cincuentas_20_10_5_2} de $2000')\n",
        "if cincuentas_20_10_5_2_1!=0:\n",
        "  print(f'{cincuentas_20_10_5_2_1} de $1000')\n",
        "  "
      ],
      "metadata": {
        "id": "MF26t-8gEavF"
      },
      "execution_count": null,
      "outputs": []
    }
  ]
}