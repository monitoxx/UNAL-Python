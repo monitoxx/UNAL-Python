{
  "nbformat": 4,
  "nbformat_minor": 0,
  "metadata": {
    "colab": {
      "provenance": [],
      "authorship_tag": "ABX9TyO5NpnrLEpAQHQGPERaiqqq",
      "include_colab_link": true
    },
    "kernelspec": {
      "name": "python3",
      "display_name": "Python 3"
    },
    "language_info": {
      "name": "python"
    }
  },
  "cells": [
    {
      "cell_type": "markdown",
      "metadata": {
        "id": "view-in-github",
        "colab_type": "text"
      },
      "source": [
        "<a href=\"https://colab.research.google.com/github/monitoxx/UNAL/blob/main/Modulo_8.ipynb\" target=\"_parent\"><img src=\"https://colab.research.google.com/assets/colab-badge.svg\" alt=\"Open In Colab\"/></a>"
      ]
    },
    {
      "cell_type": "code",
      "execution_count": null,
      "metadata": {
        "colab": {
          "base_uri": "https://localhost:8080/"
        },
        "id": "32YE9ZrVYSQR",
        "outputId": "386e41ae-69e5-4eb6-ce2c-6e3f54f88ad2"
      },
      "outputs": [
        {
          "output_type": "stream",
          "name": "stdout",
          "text": [
            "7\n",
            "9\n",
            "20\n",
            "4\n",
            "0\n",
            "#00000#\n",
            "0#000#0\n",
            "00#0#00\n",
            "000#000\n",
            "00#0#00\n",
            "0#000#0\n",
            "#00000#\n",
            "\n",
            "#0000000#\n",
            "0#00000#0\n",
            "00#000#00\n",
            "000#0#000\n",
            "0000#0000\n",
            "000#0#000\n",
            "00#000#00\n",
            "0#00000#0\n",
            "#0000000#\n",
            "\n",
            "#000000000000000000#\n",
            "0#0000000000000000#0\n",
            "00#00000000000000#00\n",
            "000#000000000000#000\n",
            "0000#0000000000#0000\n",
            "00000#00000000#00000\n",
            "000000#000000#000000\n",
            "0000000#0000#0000000\n",
            "00000000#00#00000000\n",
            "000000000##000000000\n",
            "000000000##000000000\n",
            "00000000#00#00000000\n",
            "0000000#0000#0000000\n",
            "000000#000000#000000\n",
            "00000#00000000#00000\n",
            "0000#0000000000#0000\n",
            "000#000000000000#000\n",
            "00#00000000000000#00\n",
            "0#0000000000000000#0\n",
            "#000000000000000000#\n",
            "\n",
            "#00#\n",
            "0##0\n",
            "0##0\n",
            "#00#\n",
            "\n"
          ]
        }
      ],
      "source": [
        "#///////////////////////////BANDERA ESCOSESA//////////////////////\n",
        "#esta funcion tambien sirve, pero haciendola para impares me di cuenta que no era necesario todo ese enredo y que la funcion es mucho mas sencilla. \n",
        "#Con una simple prueba de escritorio me di cuenta que mi enredo de construir una v y luego invertirla era innecesario. \n",
        "#La clave era la condicion del while, hasta donde debia llegar.\n",
        "#def bandera_par(L):\n",
        "#  p=len(L)#esta es la que cambio\n",
        "#  q=len(L)#esta la dejo fija para el rango\n",
        "#  k=0\n",
        "#  while k!=p:\n",
        "#    for i in range(1,q+1):\n",
        "#      if i==L[k] or i==L[p-1]:\n",
        "#        print('#', end='')\n",
        "#      else:\n",
        "#        print('0', end='')\n",
        "#    print('')\n",
        "#    k+=1\n",
        "#    p-=1\n",
        "#  #Hago esto porque sino, la bandera queda con 1 fila mas\n",
        "#  k-=1\n",
        "#  p+=1\n",
        "#  #Ahora se construye la V invertida:\n",
        "#  while k!=-1 and p!=q+1: #escojo hacer la comparacion con k!=-1 y con p!=q+1 y no con k!=0 y p!=q porque sino, la bandera queda con 1 fila menos, para evaluar inclusive esa condicion\n",
        "#    for i in range(1, q+1):\n",
        "#      if i==L[k] or i==L[p-1]:\n",
        "#        print('#', end='')\n",
        "#      else:\n",
        "#        print('0', end='')\n",
        "#    print('')\n",
        "#    k-=1\n",
        "#    p+=1\n",
        "#  print('')\n",
        "\n",
        "L=int(input())\n",
        "lista=[]\n",
        "while L!=0:\n",
        "  lista.append(L)\n",
        "  L=int(input())\n",
        "\n",
        "def construye_lista(L):#construyo una lista con n valores \n",
        "  dimension=[]\n",
        "  for i in range(1, L+1):\n",
        "    dimension.append(i)\n",
        "  return dimension\n",
        "\n",
        "def bandera_impar(L):#acá se inserta construye_lista\n",
        "  p=len(L)#esta es la que cambio\n",
        "  q=len(L)#esta la dejo fija para el rango\n",
        "  k=0\n",
        "  while k!=q and p!=0: #es decir, hasta que k llegue al ultimo valor de la lista y p llegue al primero. ESA ES LA CLAVE, que se crucen\n",
        "    for i in range(1,q+1):\n",
        "      if i==L[k] or i==L[p-1]:\n",
        "        print('#', end='')\n",
        "      else:\n",
        "        print('0', end='')\n",
        "    print('')\n",
        "    k+=1\n",
        "    p-=1\n",
        "  print('')\n",
        "\n",
        "for valor in lista:\n",
        "  bandera_impar(construye_lista(valor))"
      ]
    },
    {
      "cell_type": "code",
      "source": [
        "#//////////////////////////SERIE DE LUCAS///////////////////////////\n",
        "N=int(input())\n",
        "M=int(input())\n",
        "\n",
        "def serieLucas(Max):\n",
        "  lucas=[2,1]\n",
        "  while lucas[-1]<=Max:\n",
        "    lucas.append(lucas[-1]+lucas[-2])\n",
        "  lucas.pop(-1)\n",
        "  return lucas\n",
        "\n",
        "def contadorLucas(N,M):\n",
        "  contador=0\n",
        "  if N>M:\n",
        "    lista=serieLucas(N)\n",
        "    for i in range(M,N+1):\n",
        "      if i in lista:\n",
        "        contador+=1\n",
        "  elif M>N:\n",
        "    lista=serieLucas(M)\n",
        "    for i in range(N,M+1):\n",
        "      if i in lista:\n",
        "        contador+=1\n",
        "  return contador\n",
        "\n",
        "print(contadorLucas(N, M))"
      ],
      "metadata": {
        "colab": {
          "base_uri": "https://localhost:8080/"
        },
        "id": "Hg2_zBJ3Y443",
        "outputId": "9af8b668-902e-4325-cd19-63058bb18ade"
      },
      "execution_count": null,
      "outputs": [
        {
          "output_type": "stream",
          "name": "stdout",
          "text": [
            "26\n",
            "367\n",
            "6\n"
          ]
        }
      ]
    },
    {
      "cell_type": "code",
      "source": [
        "#/////////////////////////NUMEROS ARMSTRONG//////////////////////\n",
        "N=int(input())\n",
        "lista=[]\n",
        "for i in range(N):\n",
        "  N=int(input())\n",
        "  lista.append(N)\n",
        "\n",
        "def Armstrong(N):\n",
        "  valor=str(N)\n",
        "  contador=0\n",
        "  listaCifras=[]#aca van las cifras del numero\n",
        "  for i in valor: #acá recorro el numero cifra por cifra convertido en un string\n",
        "    contador+=1\n",
        "    listaCifras.append(int(i))\n",
        "  numeroArmstrong=0\n",
        "  for X in listaCifras:\n",
        "    numeroArmstrong+=X**contador\n",
        "  if numeroArmstrong==N:\n",
        "    return print(f'{N} es Armstrong')\n",
        "  return print(f'{N} no es Armstrong')\n",
        "\n",
        "for j in lista:\n",
        "  Armstrong(j)"
      ],
      "metadata": {
        "colab": {
          "base_uri": "https://localhost:8080/"
        },
        "id": "Ag_TAqc5P1AI",
        "outputId": "a4153393-72ec-4ef5-b927-8063490a27c1"
      },
      "execution_count": null,
      "outputs": [
        {
          "output_type": "stream",
          "name": "stdout",
          "text": [
            "3\n",
            "371\n",
            "45\n",
            "8\n",
            "371 es Armstrong\n",
            "45 no es Armstrong\n",
            "8 es Armstrong\n"
          ]
        }
      ]
    },
    {
      "cell_type": "code",
      "source": [
        "#//////////////////////////////PUNTOS ESPEJO/////////////////////////\n",
        "L=int(input())\n",
        "lista=[]\n",
        "for i in range(L):\n",
        "  N=float(input())\n",
        "  lista.append(N)\n",
        "\n",
        "def puntosEspejo(L, lista):\n",
        "  contador=0\n",
        "  for i in range(1,L):\n",
        "    if (sum(lista[0:i])==sum(lista[i:])):\n",
        "      contador+=1\n",
        "  return contador\n",
        "\n",
        "print(puntosEspejo(L, lista))"
      ],
      "metadata": {
        "colab": {
          "base_uri": "https://localhost:8080/"
        },
        "id": "OxMU3MiKTgUx",
        "outputId": "5429e075-8b30-48f1-ed77-8628d7dd2ae8"
      },
      "execution_count": 3,
      "outputs": [
        {
          "output_type": "stream",
          "name": "stdout",
          "text": [
            "8\n",
            "10.0\n",
            "-10.0\n",
            "10.0\n",
            "-10.0\n",
            "10.0\n",
            "-10.0\n",
            "10.0\n",
            "-10.0\n",
            "3\n"
          ]
        }
      ]
    },
    {
      "cell_type": "code",
      "source": [
        "#//////////////////////////////JUEGO DE ORDENAMIENTO/////////////////////\n",
        "N=int(input())\n",
        "lista=[]\n",
        "for i in range(N):\n",
        "  n=float(input())\n",
        "  lista.append(n)\n",
        "\n",
        "listafalsa=lista.copy() #a esta le voy a eliminar uno por uno....\n",
        "#Hay que usar ese comando .copy porque sino al modificar una de las dos listas,\n",
        "#tambien cambia la otra\n",
        "Y=min(listafalsa)\n",
        "\n",
        "def gritodePosicion(N, Y, lista):\n",
        "  for i in range(N):\n",
        "    if Y==lista[i]:\n",
        "      return print(i+1)\n",
        "\n",
        "while Y!=max(lista):\n",
        "  gritodePosicion(N, Y, lista)\n",
        "  listafalsa.remove(Y)\n",
        "  Y=min(listafalsa)\n",
        "gritodePosicion(N, Y, lista)\n",
        " \n",
        "#Ó tambien se puede hacer\n",
        "#while len(listafalsa)!=0:\n",
        "#  Y=min(listafalsa)\n",
        "#  gritodePosicion(N, Y, lista)\n",
        "#  listafalsa.remove(Y)\n",
        "#\n",
        "#asi se evita el error de no buscar min en una lista vacía"
      ],
      "metadata": {
        "colab": {
          "base_uri": "https://localhost:8080/"
        },
        "id": "qJDCtFFzUBVJ",
        "outputId": "78d85305-f6b2-4e97-e513-e54cb4dee67d"
      },
      "execution_count": 6,
      "outputs": [
        {
          "output_type": "stream",
          "name": "stdout",
          "text": [
            "5\n",
            "40\n",
            "30\n",
            "10\n",
            "50\n",
            "20\n",
            "3\n",
            "5\n",
            "2\n",
            "1\n",
            "4\n"
          ]
        }
      ]
    },
    {
      "cell_type": "code",
      "source": [
        "#//////////////////////////////NUMEROS MULTIDIGITOS////////////////////\n",
        "N=int(input())\n",
        "cifras=[]\n",
        "while N!=0:\n",
        "  cifras.append(N)\n",
        "  N=int(input())\n",
        "\n",
        "numeros=[1,2,3,4,5]\n",
        "\n",
        "def Multidigito(N):\n",
        "  X=str(N)\n",
        "  contador=[]#lista con la que voy a #comparar la de numeros\n",
        "  for j in numeros:#recorro del 1 al 5\n",
        "    for i in X:#recorro la cifra\n",
        "      if j==int(i):\n",
        "        contador.append(j)\n",
        "  contador.sort()\n",
        "  for repetido in contador: #elimino #los repetidos en contador\n",
        "    while contador.count(repetido)>1:\n",
        "      contador.remove(repetido)\n",
        "  if contador==numeros:\n",
        "    return print('Multidigito')\n",
        "  return print('No es multidigito')\n",
        "\n",
        "for N in cifras:\n",
        "  Multidigito(N)"
      ],
      "metadata": {
        "colab": {
          "base_uri": "https://localhost:8080/"
        },
        "id": "t28OabtgU_Du",
        "outputId": "c358f43f-7179-45d0-d5e6-9d39786bca1d"
      },
      "execution_count": 7,
      "outputs": [
        {
          "output_type": "stream",
          "name": "stdout",
          "text": [
            "12345\n",
            "54321\n",
            "123467\n",
            "999999\n",
            "0\n",
            "Multidigito\n",
            "Multidigito\n",
            "No es multidigito\n",
            "No es multidigito\n"
          ]
        }
      ]
    },
    {
      "cell_type": "code",
      "source": [
        "#////////////////////////SERIE DE JULIANACHI///////////////////////\n",
        "#El primer elemento de la serie es el número 1\n",
        "#De allí en adelante cada elemento es igual al elemento anterior más la cantidad\n",
        "#de divisores de ese elemento anterior\n",
        "N=int(input())\n",
        "cifras=[]\n",
        "while N!=0:\n",
        "  cifras.append(N)\n",
        "  N=int(input())\n",
        "\n",
        "def contadorDivisores(X):\n",
        "  contador=0\n",
        "  for i in range(1,X+1):\n",
        "    if X%i==0:\n",
        "      contador+=1\n",
        "  return contador\n",
        "\n",
        "def serieJulianachi(Max):\n",
        "  julianachi=[1]\n",
        "  while julianachi[-1]<=Max:\n",
        "    julianachi.append(julianachi[-1]+contadorDivisores(julianachi[-1]))\n",
        "  julianachi.pop(-1)\n",
        "  return julianachi\n",
        "\n",
        "Max=max(cifras)\n",
        "Serie=serieJulianachi(Max)\n",
        "for valor in cifras:\n",
        "  if valor in Serie:\n",
        "    print('Pertenece a la serie de Julianachi')\n",
        "  else:\n",
        "    print('No pertenece a la serie de Julianachi')"
      ],
      "metadata": {
        "colab": {
          "base_uri": "https://localhost:8080/"
        },
        "id": "jkIu7V2KVXgf",
        "outputId": "285f94a6-6f18-48ab-c3c8-3ba2f9a7fb3f"
      },
      "execution_count": 9,
      "outputs": [
        {
          "output_type": "stream",
          "name": "stdout",
          "text": [
            "12\n",
            "20\n",
            "999\n",
            "0\n",
            "Pertenece a la serie de Julianachi\n",
            "No pertenece a la serie de Julianachi\n",
            "Pertenece a la serie de Julianachi\n"
          ]
        }
      ]
    },
    {
      "cell_type": "code",
      "source": [
        "#////////////////////////////COLOR O ESCALERAS////////////////////// \n",
        "def consecutivos(listanumeros):\n",
        "  for i in range (4):#hasta el penultimo por la naturaleza del codigo(i+1)\n",
        "    if listanumeros[i]+1!=listanumeros[i+1]:\n",
        "      return False\n",
        "  return True\n",
        "\n",
        "def mismoPalo(listapalos):\n",
        "  if (listapalos.count('C')==5 or listapalos.count('D')==5 or listapalos.count('P')==5 or listapalos.count('T')==5):\n",
        "    return True\n",
        "  return False\n",
        "\n",
        "def escaleraReal(listanumeros, listapalos):\n",
        "  if listanumeros==[10,11,12,13,14] and mismoPalo(listapalos):\n",
        "    return True\n",
        "  return False\n",
        "\n",
        "def escaleraColor(listanumeros, listapalos):\n",
        "  if consecutivos(listanumeros) and mismoPalo(listapalos):\n",
        "    return True\n",
        "  return False\n",
        "\n",
        "def color(listanumeros, listapalos):\n",
        "  if mismoPalo(listapalos) and not(consecutivos(listanumeros)):\n",
        "    return True\n",
        "  return False\n",
        "\n",
        "def escalera(listanumeros, listapalos):\n",
        "  if consecutivos(listanumeros) and not(mismoPalo(listapalos)):\n",
        "    return True\n",
        "  return False\n",
        "\n",
        "M=int(input())#manos a evaluar\n",
        "listanumeros=[]\n",
        "listapalos=[]\n",
        "for j in range(M):\n",
        "  for i in range(10):\n",
        "    N=input()\n",
        "    if i==0:\n",
        "      listanumeros.append(int(N))\n",
        "    elif i%2==0:\n",
        "      listanumeros.append(int(N))\n",
        "    else:\n",
        "      listapalos.append(N)\n",
        "\n",
        "#Esto para garantizar evaluar siempre 1 mano a la vez\n",
        "Z=5\n",
        "lista1=listanumeros[0:Z]\n",
        "lista1.sort()\n",
        "lista2=listapalos[0:Z]\n",
        "lista2.sort()\n",
        "\n",
        "for i in range(M):\n",
        "  if escalera(lista1, lista2):\n",
        "    print('Escalera normal')\n",
        "  elif escaleraReal(lista1, lista2):\n",
        "    print('Escalera real')\n",
        "  elif escaleraColor(lista1, lista2):\n",
        "    print('Escalera de color')\n",
        "  elif color(lista1, lista2):\n",
        "    print('Color')\n",
        "  else:\n",
        "    print('Otra mano')\n",
        "  Z+=5\n",
        "  lista1=listanumeros[Z-5:Z]\n",
        "  lista1.sort()\n",
        "  lista2=listapalos[Z-5:Z]\n",
        "  lista2.sort()\n",
        "\n",
        "#Se tiene que poner escaleraReal antes de escaleraColor,\n",
        "# ya que las condiciones de ambas son mismo palo consecutivas,\n",
        "# solo que real es mas especifico."
      ],
      "metadata": {
        "colab": {
          "base_uri": "https://localhost:8080/"
        },
        "id": "QhyFmo4WWBx1",
        "outputId": "e59b8788-c018-4f4f-84ad-92f20f455f0a"
      },
      "execution_count": 11,
      "outputs": [
        {
          "output_type": "stream",
          "name": "stdout",
          "text": [
            "2\n",
            "7\n",
            "D\n",
            "6\n",
            "C\n",
            "9\n",
            "T\n",
            "8\n",
            "P\n",
            "5\n",
            "T\n",
            "11\n",
            "C\n",
            "10\n",
            "C\n",
            "13\n",
            "C\n",
            "14\n",
            "C\n",
            "12\n",
            "C\n",
            "Escalera normal\n",
            "Escalera real\n"
          ]
        }
      ]
    }
  ]
}